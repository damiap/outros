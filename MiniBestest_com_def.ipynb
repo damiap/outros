{
 "metadata": {
  "name": "",
  "signature": "sha256:9b0206f48e61e6f3a42437ab302a8dfa46b92932f64dde7658b2cf30f29d3bff"
 },
 "nbformat": 3,
 "nbformat_minor": 0,
 "worksheets": [
  {
   "cells": [
    {
     "cell_type": "code",
     "collapsed": false,
     "input": [
      "from __future__ import division, print_function\n",
      "import numpy as np\n",
      "import matplotlib.pyplot as plt\n",
      "import pandas as pd\n",
      "%matplotlib inline\n",
      "from IPython.display import HTML, display, Image\n",
      "from scipy import stats"
     ],
     "language": "python",
     "metadata": {},
     "outputs": [],
     "prompt_number": 1
    },
    {
     "cell_type": "heading",
     "level": 3,
     "metadata": {},
     "source": [
      "Definicoes"
     ]
    },
    {
     "cell_type": "code",
     "collapsed": false,
     "input": [
      "groups = ['Adults', 'OlderPeople'] \n",
      "\n",
      "# Anticipatory Postural Adjustments (APA), Postural Responses (PR), Sensory Orientation (SO), \n",
      "# Balance during Gait (BG), Total (TO)\n",
      "var = ['APA', 'RP', 'SO', 'BG', 'TO']\n",
      "\n",
      "extension = '.txt'\n",
      "\n",
      "# File directory:\n",
      "path = './Dados_Ad_OP/'"
     ],
     "language": "python",
     "metadata": {},
     "outputs": [],
     "prompt_number": 2
    },
    {
     "cell_type": "heading",
     "level": 3,
     "metadata": {},
     "source": [
      "Definicao para a leitura e o calculo percentual dos quatro dominios e total do Mini-Bestest"
     ]
    },
    {
     "cell_type": "code",
     "collapsed": false,
     "input": [
      "def percent_score(filename):\n",
      "    \"\"\"Summary of performance: Calculate percent score.\n",
      "    \n",
      "    Parameters\n",
      "    ----------\n",
      "    filename : nome do arquivo\n",
      "    \"\"\"\n",
      "    \n",
      "    data = np.loadtxt(filename, skiprows=1)\n",
      "    APA = data[:, 4]\n",
      "    PR  = data[:, 5]\n",
      "    SO  = data[:, 6]\n",
      "    BG  = data[:, 7]\n",
      "    TO  = data[:, 8]\n",
      "\n",
      "    APA = lambda APA: APA / 6 * 100\n",
      "    PR  = lambda PR: PR / 6 * 100\n",
      "    SO  = lambda SO: SO / 6 * 100\n",
      "    BG  = lambda BG: BG / 10 * 100\n",
      "    TO  = lambda TO: ((TO) / 28) * 100\n",
      "\n",
      "       \n",
      "    return APA, PR, SO, BG, TO"
     ],
     "language": "python",
     "metadata": {},
     "outputs": [],
     "prompt_number": 3
    },
    {
     "cell_type": "heading",
     "level": 3,
     "metadata": {},
     "source": [
      "Leitura dos arquivos "
     ]
    },
    {
     "cell_type": "code",
     "collapsed": false,
     "input": [
      "for g, group in enumerate(groups):\n",
      "    \n",
      "    filename = path + group + extension    \n",
      "           \n",
      "    print('File', filename, 'saved') \n",
      "    try:\n",
      "        data = np.loadtxt(filename, skiprows=1, unpack=False)\n",
      "    except:\n",
      "        #pass\n",
      "        print('File ' + group + extension + ' does not exist.') \n",
      "        continue\n",
      "    else:\n",
      "        pass\n",
      "\n",
      "    APA, PR, SO, BG, TO = percent_score(filename)   "
     ],
     "language": "python",
     "metadata": {},
     "outputs": [
      {
       "output_type": "stream",
       "stream": "stdout",
       "text": [
        "File ./Dados_Ad_OP/Adults.txt saved\n",
        "File ./Dados_Ad_OP/OlderPeople.txt saved\n"
       ]
      }
     ],
     "prompt_number": 4
    },
    {
     "cell_type": "heading",
     "level": 3,
     "metadata": {},
     "source": [
      "Calculo percentual dos dominios do Mini-Bestest para o grupo adultos"
     ]
    },
    {
     "cell_type": "code",
     "collapsed": false,
     "input": [
      "adults = np.loadtxt('./Dados_Ad_OP/Adults.txt', skiprows=1)\n",
      "#APA, PR, SO, BG, TO = percent_score(fileNames, systems)   \n",
      "adults = np.vstack((APA(adults[:, 4]), PR(adults[:, 5]), SO(adults[:, 6]), BG(adults[:, 7]), TO(adults[:, 8]))).T\n",
      "    \n",
      "filename = path + 'Score_MiniBestest_Adults.txt'\n",
      "header = 'Group\\tAPA\\tPR\\tSO\\tBG\\tTO'\n",
      "np.savetxt(filename, adults, #fmt='%d\\t%d\\t%d\\t%g\\t%g\\t%g',\n",
      "           delimiter='\\t', header = header, comments = '')\n",
      "print('File', filename, 'saved')   \n",
      "print(adults.shape)\n",
      "print(adults)"
     ],
     "language": "python",
     "metadata": {},
     "outputs": [
      {
       "output_type": "stream",
       "stream": "stdout",
       "text": [
        "File ./Dados_Ad_OP/Score_MiniBestest_Adults.txt saved\n",
        "(6, 5)\n",
        "[[ 100.          100.           66.66666667  100.           92.85714286]\n",
        " [ 100.           50.           33.33333333   60.           60.71428571]\n",
        " [  33.33333333   50.           66.66666667   90.           64.28571429]\n",
        " [ 100.           83.33333333  100.           70.           85.71428571]\n",
        " [  83.33333333  100.           16.66666667   70.           67.85714286]\n",
        " [  50.           16.66666667   33.33333333   50.           39.28571429]]\n"
       ]
      }
     ],
     "prompt_number": 5
    },
    {
     "cell_type": "heading",
     "level": 3,
     "metadata": {},
     "source": [
      "Calculo percentual dos dominios do Mini-Bestest para o grupo idosos"
     ]
    },
    {
     "cell_type": "code",
     "collapsed": false,
     "input": [
      "older = np.loadtxt('./Dados_Ad_OP/OlderPeople.txt', skiprows=1)\n",
      "#APA, PR, SO, BG, TO = percent_score(fileNames, systems)   \n",
      "older = np.vstack((APA(older[:, 4]), PR(older[:, 5]), SO(older[:, 6]), BG(older[:, 7]), TO(older[:, 8]))).T\n",
      "    \n",
      "filename = path + 'Score_MiniBestest_OlderPeople.txt'\n",
      "header = 'Group\\tAPA\\tPR\\tSO\\tBG\\tTO'\n",
      "np.savetxt(filename, older, #fmt='%d\\t%d\\t%d\\t%g\\t%g\\t%g',\n",
      "           delimiter='\\t', header = header, comments = '')\n",
      "print('File', filename, 'saved')   \n",
      "print(older.shape)\n",
      "print(older) "
     ],
     "language": "python",
     "metadata": {},
     "outputs": [
      {
       "output_type": "stream",
       "stream": "stdout",
       "text": [
        "File ./Dados_Ad_OP/Score_MiniBestest_OlderPeople.txt saved\n",
        "(6, 5)\n",
        "[[ 100.          100.           50.          100.           89.28571429]\n",
        " [  66.66666667   83.33333333   33.33333333  100.           75.        ]\n",
        " [  66.66666667  100.           33.33333333   80.           71.42857143]\n",
        " [  66.66666667   83.33333333  100.           70.           78.57142857]\n",
        " [  66.66666667  100.           33.33333333  100.           78.57142857]\n",
        " [  50.           16.66666667   33.33333333   40.           35.71428571]]\n"
       ]
      }
     ],
     "prompt_number": 6
    },
    {
     "cell_type": "heading",
     "level": 3,
     "metadata": {},
     "source": [
      "Analise descritiva"
     ]
    },
    {
     "cell_type": "code",
     "collapsed": false,
     "input": [
      "columns = ['Anticipatory Postural Adjustments', 'Postural Responses', 'Sensory Orientation', \n",
      "           'Balance during Gait', 'Total']\n",
      "col_order = np.argsort(columns)\n",
      "df = pd.DataFrame(np.vstack((adults, older)), columns=columns)\n",
      "df['Group'] = pd.Series(['Adults']*6 + ['Older People']*6)\n",
      "display(df.groupby('Group').describe())\n",
      "axs = df.boxplot(by='Group', figsize=(10, 6))\n",
      "plt.suptitle('Mini-Bestest', y=1.04, size=20)\n",
      "#plt.tight_layout()"
     ],
     "language": "python",
     "metadata": {},
     "outputs": [
      {
       "html": [
        "<div style=\"max-height:1000px;max-width:1500px;overflow:auto;\">\n",
        "<table border=\"1\" class=\"dataframe\">\n",
        "  <thead>\n",
        "    <tr style=\"text-align: right;\">\n",
        "      <th></th>\n",
        "      <th></th>\n",
        "      <th>Anticipatory Postural Adjustments</th>\n",
        "      <th>Balance during Gait</th>\n",
        "      <th>Postural Responses</th>\n",
        "      <th>Sensory Orientation</th>\n",
        "      <th>Total</th>\n",
        "    </tr>\n",
        "    <tr>\n",
        "      <th>Group</th>\n",
        "      <th></th>\n",
        "      <th></th>\n",
        "      <th></th>\n",
        "      <th></th>\n",
        "      <th></th>\n",
        "      <th></th>\n",
        "    </tr>\n",
        "  </thead>\n",
        "  <tbody>\n",
        "    <tr>\n",
        "      <th rowspan=\"8\" valign=\"top\">Adults</th>\n",
        "      <th>count</th>\n",
        "      <td>   6.000000</td>\n",
        "      <td>   6.000000</td>\n",
        "      <td>   6.000000</td>\n",
        "      <td>   6.000000</td>\n",
        "      <td>  6.000000</td>\n",
        "    </tr>\n",
        "    <tr>\n",
        "      <th>mean</th>\n",
        "      <td>  77.777778</td>\n",
        "      <td>  73.333333</td>\n",
        "      <td>  66.666667</td>\n",
        "      <td>  52.777778</td>\n",
        "      <td> 68.452381</td>\n",
        "    </tr>\n",
        "    <tr>\n",
        "      <th>std</th>\n",
        "      <td>  29.186501</td>\n",
        "      <td>  18.618987</td>\n",
        "      <td>  33.333333</td>\n",
        "      <td>  30.580798</td>\n",
        "      <td> 19.088498</td>\n",
        "    </tr>\n",
        "    <tr>\n",
        "      <th>min</th>\n",
        "      <td>  33.333333</td>\n",
        "      <td>  50.000000</td>\n",
        "      <td>  16.666667</td>\n",
        "      <td>  16.666667</td>\n",
        "      <td> 39.285714</td>\n",
        "    </tr>\n",
        "    <tr>\n",
        "      <th>25%</th>\n",
        "      <td>  58.333333</td>\n",
        "      <td>  62.500000</td>\n",
        "      <td>  50.000000</td>\n",
        "      <td>  33.333333</td>\n",
        "      <td> 61.607143</td>\n",
        "    </tr>\n",
        "    <tr>\n",
        "      <th>50%</th>\n",
        "      <td>  91.666667</td>\n",
        "      <td>  70.000000</td>\n",
        "      <td>  66.666667</td>\n",
        "      <td>  50.000000</td>\n",
        "      <td> 66.071429</td>\n",
        "    </tr>\n",
        "    <tr>\n",
        "      <th>75%</th>\n",
        "      <td> 100.000000</td>\n",
        "      <td>  85.000000</td>\n",
        "      <td>  95.833333</td>\n",
        "      <td>  66.666667</td>\n",
        "      <td> 81.250000</td>\n",
        "    </tr>\n",
        "    <tr>\n",
        "      <th>max</th>\n",
        "      <td> 100.000000</td>\n",
        "      <td> 100.000000</td>\n",
        "      <td> 100.000000</td>\n",
        "      <td> 100.000000</td>\n",
        "      <td> 92.857143</td>\n",
        "    </tr>\n",
        "    <tr>\n",
        "      <th rowspan=\"8\" valign=\"top\">Older People</th>\n",
        "      <th>count</th>\n",
        "      <td>   6.000000</td>\n",
        "      <td>   6.000000</td>\n",
        "      <td>   6.000000</td>\n",
        "      <td>   6.000000</td>\n",
        "      <td>  6.000000</td>\n",
        "    </tr>\n",
        "    <tr>\n",
        "      <th>mean</th>\n",
        "      <td>  69.444444</td>\n",
        "      <td>  81.666667</td>\n",
        "      <td>  80.555556</td>\n",
        "      <td>  47.222222</td>\n",
        "      <td> 71.428571</td>\n",
        "    </tr>\n",
        "    <tr>\n",
        "      <th>std</th>\n",
        "      <td>  16.386535</td>\n",
        "      <td>  24.013885</td>\n",
        "      <td>  32.346504</td>\n",
        "      <td>  26.701366</td>\n",
        "      <td> 18.488827</td>\n",
        "    </tr>\n",
        "    <tr>\n",
        "      <th>min</th>\n",
        "      <td>  50.000000</td>\n",
        "      <td>  40.000000</td>\n",
        "      <td>  16.666667</td>\n",
        "      <td>  33.333333</td>\n",
        "      <td> 35.714286</td>\n",
        "    </tr>\n",
        "    <tr>\n",
        "      <th>25%</th>\n",
        "      <td>  66.666667</td>\n",
        "      <td>  72.500000</td>\n",
        "      <td>  83.333333</td>\n",
        "      <td>  33.333333</td>\n",
        "      <td> 72.321429</td>\n",
        "    </tr>\n",
        "    <tr>\n",
        "      <th>50%</th>\n",
        "      <td>  66.666667</td>\n",
        "      <td>  90.000000</td>\n",
        "      <td>  91.666667</td>\n",
        "      <td>  33.333333</td>\n",
        "      <td> 76.785714</td>\n",
        "    </tr>\n",
        "    <tr>\n",
        "      <th>75%</th>\n",
        "      <td>  66.666667</td>\n",
        "      <td> 100.000000</td>\n",
        "      <td> 100.000000</td>\n",
        "      <td>  45.833333</td>\n",
        "      <td> 78.571429</td>\n",
        "    </tr>\n",
        "    <tr>\n",
        "      <th>max</th>\n",
        "      <td> 100.000000</td>\n",
        "      <td> 100.000000</td>\n",
        "      <td> 100.000000</td>\n",
        "      <td> 100.000000</td>\n",
        "      <td> 89.285714</td>\n",
        "    </tr>\n",
        "  </tbody>\n",
        "</table>\n",
        "</div>"
       ],
       "metadata": {},
       "output_type": "display_data",
       "text": [
        "                    Anticipatory Postural Adjustments  Balance during Gait  \\\n",
        "Group                                                                        \n",
        "Adults       count                           6.000000             6.000000   \n",
        "             mean                           77.777778            73.333333   \n",
        "             std                            29.186501            18.618987   \n",
        "             min                            33.333333            50.000000   \n",
        "             25%                            58.333333            62.500000   \n",
        "             50%                            91.666667            70.000000   \n",
        "             75%                           100.000000            85.000000   \n",
        "             max                           100.000000           100.000000   \n",
        "Older People count                           6.000000             6.000000   \n",
        "             mean                           69.444444            81.666667   \n",
        "             std                            16.386535            24.013885   \n",
        "             min                            50.000000            40.000000   \n",
        "             25%                            66.666667            72.500000   \n",
        "             50%                            66.666667            90.000000   \n",
        "             75%                            66.666667           100.000000   \n",
        "             max                           100.000000           100.000000   \n",
        "\n",
        "                    Postural Responses  Sensory Orientation      Total  \n",
        "Group                                                                   \n",
        "Adults       count            6.000000             6.000000   6.000000  \n",
        "             mean            66.666667            52.777778  68.452381  \n",
        "             std             33.333333            30.580798  19.088498  \n",
        "             min             16.666667            16.666667  39.285714  \n",
        "             25%             50.000000            33.333333  61.607143  \n",
        "             50%             66.666667            50.000000  66.071429  \n",
        "             75%             95.833333            66.666667  81.250000  \n",
        "             max            100.000000           100.000000  92.857143  \n",
        "Older People count            6.000000             6.000000   6.000000  \n",
        "             mean            80.555556            47.222222  71.428571  \n",
        "             std             32.346504            26.701366  18.488827  \n",
        "             min             16.666667            33.333333  35.714286  \n",
        "             25%             83.333333            33.333333  72.321429  \n",
        "             50%             91.666667            33.333333  76.785714  \n",
        "             75%            100.000000            45.833333  78.571429  \n",
        "             max            100.000000           100.000000  89.285714  "
       ]
      },
      {
       "metadata": {},
       "output_type": "pyout",
       "prompt_number": 7,
       "text": [
        "<matplotlib.text.Text at 0x8c38e10>"
       ]
      },
      {
       "metadata": {},
       "output_type": "display_data",
       "png": "[encoded data removed]",
       "text": [
        "<matplotlib.figure.Figure at 0x88a80d0>"
       ]
      }
     ],
     "prompt_number": 7
    },
    {
     "cell_type": "heading",
     "level": 4,
     "metadata": {},
     "source": [
      "Shapiro-Wilk test for normality,"
     ]
    },
    {
     "cell_type": "heading",
     "level": 4,
     "metadata": {},
     "source": [
      "Bartlett's test for equal variances."
     ]
    },
    {
     "cell_type": "code",
     "collapsed": false,
     "input": [
      "adults = df[df['Group'] == 'Adults']\n",
      "older_people  = df[df['Group'] == 'Older People']\n",
      "data = [adults, older_people]\n",
      "\n",
      "print('Adults (Shapiro-Wilk test)')\n",
      "for c in columns:\n",
      "    W, p = stats.shapiro(adults[c].dropna())\n",
      "    print('Factor %s: W=%.2f, p=%.2f' %(c, W, p))\n",
      "    \n",
      "print('')\n",
      "\n",
      "print('Older People (Shapiro-Wilk test)')\n",
      "for c in columns:\n",
      "    W, p = stats.shapiro(older_people[c].dropna())\n",
      "    print('Factor %s: W=%.2f, p=%.2f' %(c, W, p))\n",
      "    \n",
      "print('')\n",
      "\n",
      "print('Adults versus Older People (Bartletts test)')\n",
      "for c in columns:\n",
      "    Tstatistic, p = stats.bartlett(adults[c].dropna(), older_people[c].dropna())\n",
      "    print('Factor %s: T-statistic=%.2f, p=%.2f' %(c, Tstatistic, p))"
     ],
     "language": "python",
     "metadata": {},
     "outputs": [
      {
       "output_type": "stream",
       "stream": "stdout",
       "text": [
        "Adults (Shapiro-Wilk test)\n",
        "Factor Anticipatory Postural Adjustments: W=0.80, p=0.06\n",
        "Factor Postural Responses: W=0.90, p=0.35\n",
        "Factor Sensory Orientation: W=0.93, p=0.57\n",
        "Factor Balance during Gait: W=0.95, p=0.74\n",
        "Factor Total: W=0.96, p=0.80\n",
        "\n",
        "Older People (Shapiro-Wilk test)\n",
        "Factor Anticipatory Postural Adjustments: W=0.77, p=0.03\n",
        "Factor Postural Responses: W=0.68, p=0.00\n",
        "Factor Sensory Orientation: W=0.63, p=0.00\n",
        "Factor Balance during Gait: W=0.82, p=0.10\n",
        "Factor Total: W=0.79, p=0.05\n",
        "\n",
        "Adults versus Older People (Bartletts test)\n",
        "Factor Anticipatory Postural Adjustments: T-statistic=1.44, p=0.23\n",
        "Factor Postural Responses: T-statistic=0.00, p=0.95\n",
        "Factor Sensory Orientation: T-statistic=0.08, p=0.77\n",
        "Factor Balance during Gait: T-statistic=0.29, p=0.59\n",
        "Factor Total: T-statistic=0.00, p=0.95\n"
       ]
      }
     ],
     "prompt_number": 8
    },
    {
     "cell_type": "markdown",
     "metadata": {},
     "source": [
      "Shapiro-Wilk test: for an alpha level of 0.05 and for older people's group, a data set accepts the null hypothesis that the data are from a normally distributed population with respect to Balance during Gait."
     ]
    },
    {
     "cell_type": "markdown",
     "metadata": {},
     "source": [
      "Bartlett's test: there are not difference between the variances in the samples."
     ]
    },
    {
     "cell_type": "heading",
     "level": 3,
     "metadata": {},
     "source": [
      "Analise estatistica"
     ]
    },
    {
     "cell_type": "heading",
     "level": 4,
     "metadata": {},
     "source": [
      "Mann-Whitney-Wilcoxon RankSum test for two samples."
     ]
    },
    {
     "cell_type": "code",
     "collapsed": false,
     "input": [
      "print('Adults versus Older People (Mann-Whitney-Wilcoxon RankSum test)')\n",
      "for c in columns:\n",
      "    zstatistic, p = stats.ranksums(adults[c].dropna(), older_people[c].dropna())\n",
      "    print('Factor %s: z-statistic=%.2f, p=%.2f' %(c, zstatistic, p))"
     ],
     "language": "python",
     "metadata": {},
     "outputs": [
      {
       "output_type": "stream",
       "stream": "stdout",
       "text": [
        "Adults versus Older People (Mann-Whitney-Wilcoxon RankSum test)\n",
        "Factor Anticipatory Postural Adjustments: z-statistic=0.64, p=0.52\n",
        "Factor Postural Responses: z-statistic=-0.72, p=0.47\n",
        "Factor Sensory Orientation: z-statistic=0.24, p=0.81\n",
        "Factor Balance during Gait: z-statistic=-0.88, p=0.38\n",
        "Factor Total: z-statistic=-0.48, p=0.63\n"
       ]
      }
     ],
     "prompt_number": 9
    },
    {
     "cell_type": "markdown",
     "metadata": {},
     "source": [
      "The Mann-Whitney-Wilcoxon RankSum test is a useful test to determine if two distributions are significantly different or not. Unlike the t-test, the RankSum test does not assume that the data are normally distributed, potentially providing a more accurate assessment of the data sets. If the resulting p-value is less than some significance level, we are highly confident that the distributions significantly differ, and can claim that the variable had a significant impact on the measured value. Unlike, we must say that the distributions do not significantly differ. Therefore, the samples do not significantly differ."
     ]
    },
    {
     "cell_type": "heading",
     "level": 3,
     "metadata": {},
     "source": [
      "Plot: mediana e interquartil"
     ]
    },
    {
     "cell_type": "code",
     "collapsed": false,
     "input": [
      "# Plot: median and interquartil\n",
      "\n",
      "MedianAdults = [91.666667, 70.000000, 66.666667, 50.000000, 66.071429] # 50%\n",
      "interqAdults = [41.66667, 22.50000, 45.83333, 33.33333, 19.64286] # 75% - 25%\n",
      "\n",
      "\n",
      "MedianOlderPeople = [66.666667, 90.000000, 91.666667, 33.333333, 76.785714] # 50%\n",
      "interaOlderPeople = [0.00000, 27.50000, 16.66667, 12.50000,  6.25000] # 75% - 25%\n",
      "\n",
      "N = 5 # Systems (APA, PR, SO, BG, TO)\n",
      "\n",
      "ind = np.arange(N)  # the x locations for the groups\n",
      "width = 0.35       # the width of the bars\n",
      "\n",
      "\n",
      "fig, ax1 = plt.subplots(1, figsize=(10, 6))\n",
      "\n",
      "rects1 = ax1.bar(ind, MedianAdults, width, color='w',  yerr=interqAdults, ecolor=\"k\")\n",
      "rects2 = ax1.bar(ind+width, MedianOlderPeople, width, color='0.75',  yerr=interaOlderPeople, ecolor=\"k\")\n",
      "\n",
      "# add some text for labels, title and axes ticks\n",
      "plt.suptitle(\"Percent Score of the Mini-Bestest\", fontsize=18)\n",
      "\n",
      "ax1.set_ylabel('Score', fontsize=15)\n",
      "ax1.set_xticks(ind+width)\n",
      "ax1.set_xticklabels( ('APA', 'PR', 'SO', 'BG', 'TO'), fontsize=12.5)\n",
      "ax1.set_xlabel('Systems', fontsize=15)\n",
      "ax1.legend((rects1[0], rects2[0]), ('Adults', 'Older People'), loc='best' )\n",
      "\n",
      "\n",
      "def autolabel(rects):\n",
      "    # attach some text labels\n",
      "    for rect in rects:\n",
      "        height = rect.get_height()\n",
      "        #ax.text(rect.get_x()+rect.get_width()/2., 1.05*height, '%d'%int(height),\n",
      "         #      ha='center', va='bottom')\n",
      "\n",
      "autolabel(rects1)\n",
      "autolabel(rects2)"
     ],
     "language": "python",
     "metadata": {},
     "outputs": [
      {
       "metadata": {},
       "output_type": "display_data",
       "png": "[encoded data removed]",
       "text": [
        "<matplotlib.figure.Figure at 0x8e80ed0>"
       ]
      }
     ],
     "prompt_number": 10
    },
    {
     "cell_type": "code",
     "collapsed": false,
     "input": [],
     "language": "python",
     "metadata": {},
     "outputs": []
    }
   ],
   "metadata": {}
  }
 ]
}