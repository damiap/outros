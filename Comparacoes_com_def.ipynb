{
 "metadata": {
  "name": "",
  "signature": "sha256:fb1507651b7ea79dc018d0d1b2b1d4a8ee6af4020f0d06b88fbfc4a28f74b85b"
 },
 "nbformat": 3,
 "nbformat_minor": 0,
 "worksheets": [
  {
   "cells": [
    {
     "cell_type": "code",
     "collapsed": false,
     "input": [
      "from __future__ import division, print_function\n",
      "import numpy as np\n",
      "import matplotlib.pyplot as plt\n",
      "import pandas as pd\n",
      "%matplotlib inline\n",
      "from IPython.display import HTML, display, Image\n",
      "from scipy import stats"
     ],
     "language": "python",
     "metadata": {},
     "outputs": [],
     "prompt_number": 1
    },
    {
     "cell_type": "heading",
     "level": 3,
     "metadata": {},
     "source": [
      "Definicoes"
     ]
    },
    {
     "cell_type": "code",
     "collapsed": false,
     "input": [
      "groups = ['Adults', 'OlderPeople'] \n",
      "\n",
      "# mass (Kg), height (m), age (years), bmi (Kg/m^2), education (years of scholarity)\n",
      "var = ['AGE', 'MASS', 'HEIGHT', 'BMI', 'EDUC']\n",
      "\n",
      "extension = '.txt'\n",
      "\n",
      "# File directory:\n",
      "path = './Dados_Ad_OP/'"
     ],
     "language": "python",
     "metadata": {},
     "outputs": [],
     "prompt_number": 2
    },
    {
     "cell_type": "heading",
     "level": 3,
     "metadata": {},
     "source": [
      "Definicao para a leitura e as comparacoes para idade, massa, estatura, IMC e escolaridade entre os grupos"
     ]
    },
    {
     "cell_type": "code",
     "collapsed": false,
     "input": [
      "def comparisons(filename):\n",
      "    \"\"\"Comparisons for age, mass, height, bmi and education.\n",
      "    \n",
      "    Parameters\n",
      "    ----------\n",
      "    filename : nome do arquivo\n",
      "    \"\"\"\n",
      "    \n",
      "    data = np.loadtxt(filename, skiprows=1)\n",
      "    AGE  = data[:, 0]\n",
      "    MASS = data[:, 1]\n",
      "    HEIGHT  = data[:, 2]\n",
      "    EDUC  = data[:, 3]\n",
      "    BMI = lambda weight, height: weight / height**2   \n",
      "           \n",
      "    return AGE, MASS, HEIGHT, EDUC, BMI"
     ],
     "language": "python",
     "metadata": {},
     "outputs": [],
     "prompt_number": 3
    },
    {
     "cell_type": "heading",
     "level": 3,
     "metadata": {},
     "source": [
      "Leitura dos arquivos "
     ]
    },
    {
     "cell_type": "code",
     "collapsed": false,
     "input": [
      "for g, group in enumerate(groups):\n",
      "    \n",
      "    filename = path + group + extension    \n",
      "           \n",
      "    print('File', filename, 'saved') \n",
      "    try:\n",
      "        data = np.loadtxt(filename, skiprows=1, unpack=False)\n",
      "    except:\n",
      "        #pass\n",
      "        print('File ' + group + extension + ' does not exist.') \n",
      "        continue\n",
      "    else:\n",
      "        pass\n",
      "\n",
      "    AGE, MASS, HEIGHT, EDUC, BMI = comparisons(filename) "
     ],
     "language": "python",
     "metadata": {},
     "outputs": [
      {
       "output_type": "stream",
       "stream": "stdout",
       "text": [
        "File ./Dados_Ad_OP/Adults.txt saved\n",
        "File ./Dados_Ad_OP/OlderPeople.txt saved\n"
       ]
      }
     ],
     "prompt_number": 4
    },
    {
     "cell_type": "heading",
     "level": 3,
     "metadata": {},
     "source": [
      "Idade, massa, estatura, IMC e escolaridade do grupo adultos"
     ]
    },
    {
     "cell_type": "code",
     "collapsed": false,
     "input": [
      "adults = np.loadtxt('./Dados_Ad_OP/Adults.txt', skiprows=1)\n",
      "\n",
      "AGE, MASS, HEIGHT, EDUC, BMI = comparisons(filename)   \n",
      "\n",
      "adults = np.vstack((adults[:, :3].T, BMI(adults[:, 1], adults[:, 2]), adults[:, 3].T)).T\n",
      "    \n",
      "    \n",
      "filename = path + 'Caracteristicas_Adults.txt'\n",
      "header = 'Group\\tAGE\\tMASS\\tHEIGHT\\tBMI\\tEDUC'\n",
      "np.savetxt(filename, adults, #fmt='%d\\t%d\\t%d\\t%g\\t%g\\t%g',\n",
      "           delimiter='\\t', header = header, comments = '')\n",
      "print('File', filename, 'saved')   \n",
      "    \n",
      "print(adults.shape)\n",
      "print(adults)"
     ],
     "language": "python",
     "metadata": {},
     "outputs": [
      {
       "output_type": "stream",
       "stream": "stdout",
       "text": [
        "File ./Dados_Ad_OP/Caracteristicas_Adults.txt saved\n",
        "(6, 5)\n",
        "[[ 30.          65.           1.6         25.390625    12.        ]\n",
        " [ 27.          45.           1.54        18.97453196  10.        ]\n",
        " [ 25.          84.7          1.66        30.73740746   8.        ]\n",
        " [ 19.          64.5          1.52        27.91724377   7.        ]\n",
        " [ 20.          54.3          1.63        20.4373518   10.        ]\n",
        " [ 22.          73.9          1.71        25.27273349  15.        ]]\n"
       ]
      }
     ],
     "prompt_number": 5
    },
    {
     "cell_type": "heading",
     "level": 3,
     "metadata": {},
     "source": [
      "Idade, massa, estatura, IMC e escolaridade do grupo idosos"
     ]
    },
    {
     "cell_type": "code",
     "collapsed": false,
     "input": [
      "older = np.loadtxt('./Dados_Ad_OP/OlderPeople.txt', skiprows=1)\n",
      "\n",
      "AGE, MASS, HEIGHT, EDUC, BMI = comparisons(filename)   \n",
      "\n",
      "older = np.vstack((older[:, :3].T, BMI(older[:, 1], older[:, 2]), older[:, 3].T)).T\n",
      "    \n",
      "    \n",
      "filename = path + 'Caracteristicas_OlderPeople.txt'\n",
      "header = 'Group\\tAGE\\tMASS\\tHEIGHT\\tBMI\\tEDUC'\n",
      "np.savetxt(filename, older, #fmt='%d\\t%d\\t%d\\t%g\\t%g\\t%g',\n",
      "           delimiter='\\t', header = header, comments = '')\n",
      "print('File', filename, 'saved')   \n",
      "    \n",
      "print(older.shape)\n",
      "print(older)"
     ],
     "language": "python",
     "metadata": {},
     "outputs": [
      {
       "output_type": "stream",
       "stream": "stdout",
       "text": [
        "File ./Dados_Ad_OP/Caracteristicas_OlderPeople.txt saved\n",
        "(6, 5)\n",
        "[[ 63.          95.           1.7         32.87197232   4.        ]\n",
        " [ 54.          75.           1.52        32.46191136   4.        ]\n",
        " [ 64.          88.9          1.66        32.26157643   9.        ]\n",
        " [ 71.          64.5          1.52        27.91724377   2.        ]\n",
        " [ 71.          55.           1.63        20.70081674   0.        ]\n",
        " [ 62.          73.7          1.71        25.20433638   1.        ]]\n"
       ]
      }
     ],
     "prompt_number": 6
    },
    {
     "cell_type": "heading",
     "level": 3,
     "metadata": {},
     "source": [
      "Analise descritiva "
     ]
    },
    {
     "cell_type": "code",
     "collapsed": false,
     "input": [
      "columns = ['Age', 'Mass', 'Height', 'BMI', 'Education']\n",
      "col_order = np.argsort(columns)\n",
      "df = pd.DataFrame(np.vstack((adults, older)), columns=columns)\n",
      "df['Group'] = pd.Series(['Adults']*6 + ['Older People']*6)\n",
      "display(df.groupby('Group').describe())\n",
      "\n",
      "axs = df.boxplot(by='Group', figsize=(10, 6))\n",
      "plt.suptitle('Age, Mass, Height, BMI and Education', y=1.04, size=20)\n",
      "#plt.tight_layout()"
     ],
     "language": "python",
     "metadata": {},
     "outputs": [
      {
       "html": [
        "<div style=\"max-height:1000px;max-width:1500px;overflow:auto;\">\n",
        "<table border=\"1\" class=\"dataframe\">\n",
        "  <thead>\n",
        "    <tr style=\"text-align: right;\">\n",
        "      <th></th>\n",
        "      <th></th>\n",
        "      <th>Age</th>\n",
        "      <th>BMI</th>\n",
        "      <th>Education</th>\n",
        "      <th>Height</th>\n",
        "      <th>Mass</th>\n",
        "    </tr>\n",
        "    <tr>\n",
        "      <th>Group</th>\n",
        "      <th></th>\n",
        "      <th></th>\n",
        "      <th></th>\n",
        "      <th></th>\n",
        "      <th></th>\n",
        "      <th></th>\n",
        "    </tr>\n",
        "  </thead>\n",
        "  <tbody>\n",
        "    <tr>\n",
        "      <th rowspan=\"8\" valign=\"top\">Adults</th>\n",
        "      <th>count</th>\n",
        "      <td>  6.000000</td>\n",
        "      <td>  6.000000</td>\n",
        "      <td>  6.000000</td>\n",
        "      <td> 6.000000</td>\n",
        "      <td>  6.000000</td>\n",
        "    </tr>\n",
        "    <tr>\n",
        "      <th>mean</th>\n",
        "      <td> 23.833333</td>\n",
        "      <td> 24.788316</td>\n",
        "      <td> 10.333333</td>\n",
        "      <td> 1.610000</td>\n",
        "      <td> 64.566667</td>\n",
        "    </tr>\n",
        "    <tr>\n",
        "      <th>std</th>\n",
        "      <td>  4.262237</td>\n",
        "      <td>  4.438700</td>\n",
        "      <td>  2.875181</td>\n",
        "      <td> 0.072111</td>\n",
        "      <td> 14.006522</td>\n",
        "    </tr>\n",
        "    <tr>\n",
        "      <th>min</th>\n",
        "      <td> 19.000000</td>\n",
        "      <td> 18.974532</td>\n",
        "      <td>  7.000000</td>\n",
        "      <td> 1.520000</td>\n",
        "      <td> 45.000000</td>\n",
        "    </tr>\n",
        "    <tr>\n",
        "      <th>25%</th>\n",
        "      <td> 20.500000</td>\n",
        "      <td> 21.646197</td>\n",
        "      <td>  8.500000</td>\n",
        "      <td> 1.555000</td>\n",
        "      <td> 56.850000</td>\n",
        "    </tr>\n",
        "    <tr>\n",
        "      <th>50%</th>\n",
        "      <td> 23.500000</td>\n",
        "      <td> 25.331679</td>\n",
        "      <td> 10.000000</td>\n",
        "      <td> 1.615000</td>\n",
        "      <td> 64.750000</td>\n",
        "    </tr>\n",
        "    <tr>\n",
        "      <th>75%</th>\n",
        "      <td> 26.500000</td>\n",
        "      <td> 27.285589</td>\n",
        "      <td> 11.500000</td>\n",
        "      <td> 1.652500</td>\n",
        "      <td> 71.675000</td>\n",
        "    </tr>\n",
        "    <tr>\n",
        "      <th>max</th>\n",
        "      <td> 30.000000</td>\n",
        "      <td> 30.737407</td>\n",
        "      <td> 15.000000</td>\n",
        "      <td> 1.710000</td>\n",
        "      <td> 84.700000</td>\n",
        "    </tr>\n",
        "    <tr>\n",
        "      <th rowspan=\"8\" valign=\"top\">Older People</th>\n",
        "      <th>count</th>\n",
        "      <td>  6.000000</td>\n",
        "      <td>  6.000000</td>\n",
        "      <td>  6.000000</td>\n",
        "      <td> 6.000000</td>\n",
        "      <td>  6.000000</td>\n",
        "    </tr>\n",
        "    <tr>\n",
        "      <th>mean</th>\n",
        "      <td> 64.166667</td>\n",
        "      <td> 28.569643</td>\n",
        "      <td>  3.333333</td>\n",
        "      <td> 1.623333</td>\n",
        "      <td> 75.350000</td>\n",
        "    </tr>\n",
        "    <tr>\n",
        "      <th>std</th>\n",
        "      <td>  6.369197</td>\n",
        "      <td>  4.918526</td>\n",
        "      <td>  3.204164</td>\n",
        "      <td> 0.085010</td>\n",
        "      <td> 14.862133</td>\n",
        "    </tr>\n",
        "    <tr>\n",
        "      <th>min</th>\n",
        "      <td> 54.000000</td>\n",
        "      <td> 20.700817</td>\n",
        "      <td>  0.000000</td>\n",
        "      <td> 1.520000</td>\n",
        "      <td> 55.000000</td>\n",
        "    </tr>\n",
        "    <tr>\n",
        "      <th>25%</th>\n",
        "      <td> 62.250000</td>\n",
        "      <td> 25.882563</td>\n",
        "      <td>  1.250000</td>\n",
        "      <td> 1.547500</td>\n",
        "      <td> 66.800000</td>\n",
        "    </tr>\n",
        "    <tr>\n",
        "      <th>50%</th>\n",
        "      <td> 63.500000</td>\n",
        "      <td> 30.089410</td>\n",
        "      <td>  3.000000</td>\n",
        "      <td> 1.645000</td>\n",
        "      <td> 74.350000</td>\n",
        "    </tr>\n",
        "    <tr>\n",
        "      <th>75%</th>\n",
        "      <td> 69.250000</td>\n",
        "      <td> 32.411828</td>\n",
        "      <td>  4.000000</td>\n",
        "      <td> 1.690000</td>\n",
        "      <td> 85.425000</td>\n",
        "    </tr>\n",
        "    <tr>\n",
        "      <th>max</th>\n",
        "      <td> 71.000000</td>\n",
        "      <td> 32.871972</td>\n",
        "      <td>  9.000000</td>\n",
        "      <td> 1.710000</td>\n",
        "      <td> 95.000000</td>\n",
        "    </tr>\n",
        "  </tbody>\n",
        "</table>\n",
        "</div>"
       ],
       "metadata": {},
       "output_type": "display_data",
       "text": [
        "                          Age        BMI  Education    Height       Mass\n",
        "Group                                                                   \n",
        "Adults       count   6.000000   6.000000   6.000000  6.000000   6.000000\n",
        "             mean   23.833333  24.788316  10.333333  1.610000  64.566667\n",
        "             std     4.262237   4.438700   2.875181  0.072111  14.006522\n",
        "             min    19.000000  18.974532   7.000000  1.520000  45.000000\n",
        "             25%    20.500000  21.646197   8.500000  1.555000  56.850000\n",
        "             50%    23.500000  25.331679  10.000000  1.615000  64.750000\n",
        "             75%    26.500000  27.285589  11.500000  1.652500  71.675000\n",
        "             max    30.000000  30.737407  15.000000  1.710000  84.700000\n",
        "Older People count   6.000000   6.000000   6.000000  6.000000   6.000000\n",
        "             mean   64.166667  28.569643   3.333333  1.623333  75.350000\n",
        "             std     6.369197   4.918526   3.204164  0.085010  14.862133\n",
        "             min    54.000000  20.700817   0.000000  1.520000  55.000000\n",
        "             25%    62.250000  25.882563   1.250000  1.547500  66.800000\n",
        "             50%    63.500000  30.089410   3.000000  1.645000  74.350000\n",
        "             75%    69.250000  32.411828   4.000000  1.690000  85.425000\n",
        "             max    71.000000  32.871972   9.000000  1.710000  95.000000"
       ]
      },
      {
       "metadata": {},
       "output_type": "pyout",
       "prompt_number": 7,
       "text": [
        "<matplotlib.text.Text at 0x8c1ae50>"
       ]
      },
      {
       "metadata": {},
       "output_type": "display_data",
       "png": "[encoded data removed]",
       "text": [
        "<matplotlib.figure.Figure at 0x885f130>"
       ]
      }
     ],
     "prompt_number": 7
    },
    {
     "cell_type": "heading",
     "level": 4,
     "metadata": {},
     "source": [
      "Shapiro-Wilk test for normality,"
     ]
    },
    {
     "cell_type": "heading",
     "level": 4,
     "metadata": {},
     "source": [
      "Bartlett's test for equal variances."
     ]
    },
    {
     "cell_type": "code",
     "collapsed": false,
     "input": [
      "adults = df[df['Group'] == 'Adults']\n",
      "older_people  = df[df['Group'] == 'Older People']\n",
      "data = [adults, older_people]\n",
      "\n",
      "print('Adults (Shapiro-Wilk test)')\n",
      "for c in columns:\n",
      "    W, p = stats.shapiro(adults[c].dropna())\n",
      "    print('Factor %s: W=%.2f, p=%.2f' %(c, W, p))\n",
      "    \n",
      "print('')\n",
      "\n",
      "print('Older People (Shapiro-Wilk test)')\n",
      "for c in columns:\n",
      "    W, p = stats.shapiro(older_people[c].dropna())\n",
      "    print('Factor %s: W=%.2f, p=%.2f' %(c, W, p))\n",
      "    \n",
      "print('')\n",
      "\n",
      "print('Adults and Older People (Bartletts test)')\n",
      "for c in columns:\n",
      "    Tstatistic, p = stats.bartlett(adults[c].dropna(), older_people[c].dropna())\n",
      "    print('Factor %s: T-statistic=%.2f, p=%.2f' %(c, Tstatistic, p))\n"
     ],
     "language": "python",
     "metadata": {},
     "outputs": [
      {
       "output_type": "stream",
       "stream": "stdout",
       "text": [
        "Adults (Shapiro-Wilk test)\n",
        "Factor Age: W=0.95, p=0.76\n",
        "Factor Mass: W=0.98, p=0.97\n",
        "Factor Height: W=0.97, p=0.87\n",
        "Factor BMI: W=0.95, p=0.74\n",
        "Factor Education: W=0.95, p=0.74\n",
        "\n",
        "Older People (Shapiro-Wilk test)\n",
        "Factor Age: W=0.90, p=0.40\n",
        "Factor Mass: W=0.97, p=0.87\n",
        "Factor Height: W=0.85, p=0.16\n",
        "Factor BMI: W=0.87, p=0.22\n",
        "Factor Education: W=0.90, p=0.39\n",
        "\n",
        "Adults and Older People (Bartletts test)\n",
        "Factor Age: T-statistic=0.71, p=0.40"
       ]
      },
      {
       "output_type": "stream",
       "stream": "stdout",
       "text": [
        "\n",
        "Factor Mass: T-statistic=0.02, p=0.90\n",
        "Factor Height: T-statistic=0.12, p=0.73\n",
        "Factor BMI: T-statistic=0.05, p=0.83\n",
        "Factor Education: T-statistic=0.05, p=0.82\n"
       ]
      }
     ],
     "prompt_number": 8
    },
    {
     "cell_type": "markdown",
     "metadata": {},
     "source": [
      "The Shapiro-Wilk test tests the null hypothesis that the data was drawn from a normal distribution. Thus if the p-value is less than the chosen alpha level, then the null hypothesis is rejected and there is evidence that the data tested are not from a normally distributed population. In other words, the data are not normal. On the contrary, if the p-value is greater than the chosen alpha level, then the null hypothesis that the data came from a normally distributed population cannot be rejected. Therefore, for an alpha level of 0.05, a data set accepts the null hypothesis that the data are from a normally distributed population. "
     ]
    },
    {
     "cell_type": "markdown",
     "metadata": {},
     "source": [
      "Bartlett's test tests the null hypothesis that all input samples are from populations with equal variances. If the resulting p-value is less than some significance level, the null hypothesis of equal variances is rejected. Therefore, the null hypothesis of equal variances is accepted, there are not difference between the variances in the samples."
     ]
    },
    {
     "cell_type": "heading",
     "level": 3,
     "metadata": {},
     "source": [
      "Analise estatistica "
     ]
    },
    {
     "cell_type": "heading",
     "level": 4,
     "metadata": {},
     "source": [
      "t-test for the means of two independent samples of scores."
     ]
    },
    {
     "cell_type": "code",
     "collapsed": false,
     "input": [
      "print('Adults versus Older People (t-test)')\n",
      "for c in columns:\n",
      "        t, p = stats.ttest_ind(adults[c].dropna(), older_people[c].dropna())\n",
      "        print('Factor %s: t=%.2f, p=%.2f' %(c, t, p))       "
     ],
     "language": "python",
     "metadata": {},
     "outputs": [
      {
       "output_type": "stream",
       "stream": "stdout",
       "text": [
        "Adults versus Older People (t-test)\n",
        "Factor Age: t=-12.89, p=0.00\n",
        "Factor Mass: t=-1.29, p=0.22\n",
        "Factor Height: t=-0.29, p=0.78\n",
        "Factor BMI: t=-1.40, p=0.19\n",
        "Factor Education: t=3.98, p=0.00\n"
       ]
      }
     ],
     "prompt_number": 9
    },
    {
     "cell_type": "markdown",
     "metadata": {},
     "source": [
      "t-test measures whether the average (expected) value differs significantly across samples. If we observe a large p-value, for example larger than 0.05 or 0.1, then we cannot reject the null hypothesis of identical average scores. If the p-value is smaller than the threshold, e.g. 1%, 5% or 10%, then we reject the null hypothesis of equal averages. Therefore, there are difference between groups with respect to age and education."
     ]
    },
    {
     "cell_type": "code",
     "collapsed": false,
     "input": [],
     "language": "python",
     "metadata": {},
     "outputs": []
    }
   ],
   "metadata": {}
  }
 ]
}